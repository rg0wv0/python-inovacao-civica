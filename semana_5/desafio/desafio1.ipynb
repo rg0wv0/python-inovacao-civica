{
 "cells": [
  {
   "cell_type": "markdown",
   "id": "90fd5ca6",
   "metadata": {},
   "source": [
    "# Desafio 1: Licitações da Secretaria de Educação de São Paulo no Portal de Compras Federal"
   ]
  },
  {
   "cell_type": "markdown",
   "id": "4805e4af",
   "metadata": {},
   "source": [
    "Neste desafio você irá **acessar o Portal de Compras do Governo Federal (ComprasNET)** e fazer uma busca no sistema para encontrar **todas** as licitações em formato de **pregão eletrônico** em andamento da **Secretaria de Educação de São Paulo**.\n",
    "\n",
    "Antes de começar o desafio, [acesse o site](http://comprasnet.gov.br/acesso.asp?url=/livre/Pregao/lista_pregao_filtro.asp?Opc=2) e se familiarize com ele. A UASG ([Unidade de Administração de Serviços Gerais](http://www.comprasnet.gov.br/publicacoes/cartilha/glossario.asp)) da Secretaria de Educação de São Paulo é **925013**. É possível encontrar UASG de outras entidades da administração pública na internet facilmente se quiser experimentar :)\n",
    "\n",
    "Lembre-se que as Ferramentas de Desenvolvimento do Chrome são essenciais nesse desafio!"
   ]
  },
  {
   "cell_type": "markdown",
   "id": "4c4bc5c3",
   "metadata": {},
   "source": [
    "## Importando as bibliotecas que iremos utilizar\n",
    "\n",
    "O fluxo da nossa solução será o seguinte:\n",
    "\n",
    "1. Acessar a página inicial da consulta iniciando uma sessão com `requests_html`\n",
    "2. Realizar a consulta com os parâmetros apropriados\n",
    "3. Extrair as informações da tabela de resultados encontrada na página\n",
    "4. Salvar o conteúdo em CSV usando a biblioteca nativa do Python `csv`\n",
    "5. Salvar o conteúdo em CSV mas usando a biblioteca `pandas`\n",
    "\n",
    "Então, os `import` a seguir são os necessários para esta tarefa."
   ]
  },
  {
   "cell_type": "code",
   "execution_count": 37,
   "id": "95697f5e",
   "metadata": {},
   "outputs": [],
   "source": [
    "import csv\n",
    "\n",
    "import pandas as pd\n",
    "from requests_html import HTMLSession"
   ]
  },
  {
   "cell_type": "markdown",
   "id": "1956ae9e",
   "metadata": {},
   "source": [
    "## Acessando a página inicial\n",
    "\n",
    "Precisaremos criar uma sessão (como se fosse uma sessão de navegação mesmo) acessando a página inicial para depois fazer a requisição que irá submeter o formulário (realizar a consulta).\n",
    "\n",
    "Primeiro, vamos guardar a nossa URL inicial em uma variável:"
   ]
  },
  {
   "cell_type": "code",
   "execution_count": 38,
   "id": "887df39a",
   "metadata": {},
   "outputs": [],
   "source": [
    "url = \"http://comprasnet.gov.br/acesso.asp?url=/livre/Pregao/lista_pregao_filtro.asp?Opc=2\""
   ]
  },
  {
   "cell_type": "markdown",
   "id": "b05f3aa9",
   "metadata": {},
   "source": [
    "E então, podemos criar uma sessão e fazer uma requisição para a página inicial:"
   ]
  },
  {
   "cell_type": "code",
   "execution_count": 39,
   "id": "1bea76ed",
   "metadata": {},
   "outputs": [],
   "source": [
    "session = HTMLSession()\n",
    "first_page = session.get(url)"
   ]
  },
  {
   "cell_type": "code",
   "execution_count": 40,
   "id": "02ced972",
   "metadata": {},
   "outputs": [
    {
     "data": {
      "text/plain": [
       "'\\n\\n<html>\\n<script>\\n    if (document.referrer.indexOf(\"comprasnet.com\") > -1) {\\n        location.href = \"branco.htm\"\\n    }\\n</script>\\n<head>\\n<title>ComprasNet</title>\\n<meta http-equiv=\"Content-Type\" content=\"text/html; charset=iso-8859-1\">\\n<link rel=\"stylesheet\" href=\"imagens/style1.css\" type=\"text/css\">\\n</head>\\n<frameset rows=\"170,*\" frameborder=\"NO\" border=\"0\" framespacing=\"0\">\\n\\t<frame src=\"t_top.asp\" name=\"nav\" scrolling=\"NO\">  \\n\\t<frameset rows=\"*,55\" cols=\"*\">\\n\\t\\t<frame src=\"/livre/Pregao/lista_pregao_filtro.asp?Opc=2\" name=\"main2\">\\n\\t\\t<frame src=\"main.asp\" name=\"main\" scrolling=\"NO\">\\n\\t</frameset>\\n</frameset>\\n<noframes> \\n\\t<body bgcolor=\"#FFFFFF\" text=\"#000000\">\\n\\t</body>\\n</noframes> \\n</html>\\n'"
      ]
     },
     "execution_count": 40,
     "metadata": {},
     "output_type": "execute_result"
    }
   ],
   "source": [
    "first_page.text"
   ]
  },
  {
   "cell_type": "markdown",
   "id": "95c6e3b0",
   "metadata": {},
   "source": [
    "## Realizando a consulta\n",
    "\n",
    "Para realizar esta consulta, você deve ter observado que uma requisição `POST` é necessária. Normalmente submissões de formulários são assim mesmo, onde você realiza uma requisição `POST` que o resultado varia a depender dos parâmetros que você insere no _formdata_ (ou dados de formulário). Nesse caso, o _formdata_ deve ser composto pelos parâmetros da nossa consulta (imaginamos).\n",
    "\n",
    "Qual a URL você identificou nessa requisição que realiza a consulta? Guarde-a numa variável:"
   ]
  },
  {
   "cell_type": "code",
   "execution_count": 41,
   "id": "4e21fe57",
   "metadata": {},
   "outputs": [],
   "source": [
    "form_url = \"http://comprasnet.gov.br/livre/Pregao/lista_pregao.asp\""
   ]
  },
  {
   "cell_type": "markdown",
   "id": "8165bbf7",
   "metadata": {},
   "source": [
    "E o __formdata__? Conseguiu identificar os campos? Alguns são sempre necessários e outros podem não ser...\n",
    "\n",
    "Preencha aqui com os valores adequados (e se desejar, brinque um pouco com esses parâmetros):"
   ]
  },
  {
   "cell_type": "code",
   "execution_count": 42,
   "id": "edc93a3d",
   "metadata": {},
   "outputs": [],
   "source": [
    "formdata = {\n",
    "  'Opc': '2',\n",
    "  'txtlstUasg': '',\n",
    "  'rdTpPregao': 'E',\n",
    "  'lstSrp': 'T',\n",
    "  'lstICMS': 'T',\n",
    "  'lstSituacao': '5',\n",
    "  'lstTipoSuspensao': '0',\n",
    "  'uf': '',\n",
    "  'co_uasg': '925013',\n",
    "  'numprp': '',\n",
    "  'dt_entrega': '',\n",
    "  'dt_abertura': ''\n",
    "}"
   ]
  },
  {
   "cell_type": "markdown",
   "id": "f66e6284",
   "metadata": {},
   "source": [
    "Com isso podemos fazer nossa consulta:"
   ]
  },
  {
   "cell_type": "code",
   "execution_count": 43,
   "id": "7a32f1f1",
   "metadata": {},
   "outputs": [],
   "source": [
    "form_response = session.post(form_url, data=formdata)"
   ]
  },
  {
   "cell_type": "code",
   "execution_count": 44,
   "id": "96d6a1d7",
   "metadata": {
    "scrolled": true
   },
   "outputs": [
    {
     "data": {
      "text/plain": [
       "'\\n<html>\\n<head>\\n<meta http-equiv=\"expires\" content=\"0\">\\n<meta http-equiv=\"cache-control\" content=\"private\">\\n<meta http-equiv=\"pragma\" content=\"no-cache\">\\n<meta http-equiv=\"Content-Type\" content=\"text/html; charset=iso-8859-1\">\\n<script language=\"javascript\" type=\"text/javascript\" SRC=\"../../imagens/action.js\"></script>\\n<link rel=\"stylesheet\" href=\"../../imagens/style1.css\" type=\"text/css\">\\n<script LANGUAGE=\"javascript\">\\n\\tfunction Dados_Pregao(pCod, pTp){\\n\\t\\tvar url = \"dados_pregao.asp?prgcod=\"+pCod+\"&Tipo=\"+pTp\\n\\t\\twindow.open(url, \\'DadosPregao\\', \\'maximized=yes, screenX=250, screenY=0, toolbar=no,location=no,directories=no,status=no,menubar=no,scrollbars=yes,resizable=no,copyhistory=no,width=550,height=400\\');\\n\\t\\treturn false;\\n\\t}\\n\\tfunction Motivo_Suspensao(pCod, pOpc){\\n\\t\\tvar url = \"motiv_suspensao.asp?prgCod=\"+pCod+\"&Opc=\"+pOpc\\n\\t\\twindow.open (url,\\'Suspensao\\',\\'maximized=yes, screenX=250, screenY=0, toolbar=no,location=no,directories=no,status=no,menubar=no,scrollbars=yes,resizable=no,copyhistory=no,width=550,height=400\\');\\n\\t\\treturn false;\\n\\t}\\n\\tfunction Avisos_Pregao(pCod,pOrigem){\\n\\t\\tvar url = \"avisos1.asp?prgCod=\"+pCod+\"&Origem=Avisos&Tipo=A\"\\n\\t\\twindow.open (url,\\'Avisos\\',\\'maximized=yes, screenX=250, screenY=0, toolbar=no,location=no,directories=no,status=no,menubar=no,scrollbars=yes,resizable=no,copyhistory=no,width=700,height=400\\');\\n\\t\\treturn false;\\n\\t}\\n\\tfunction Esclar_Pregao(pCod,pOrigem){\\n\\t\\tvar url = \"avisos1.asp?prgCod=\"+pCod+\"&Origem=Avisos&Tipo=E\"\\n\\t\\twindow.open (url,\\'Escareciemtos\\',\\'maximized=yes, screenX=250, screenY=0, toolbar=no,location=no,directories=no,status=no,menubar=no,scrollbars=yes,resizable=no,copyhistory=no,width=700,height=400\\');\\n\\t\\treturn false;\\n\\t}\\n\\tfunction Impugn_Pregao(pCod,pOrigem){\\n\\t\\tvar url = \"avisos1.asp?prgCod=\"+pCod+\"&Origem=Avisos&Tipo=I\"\\n\\t\\twindow.open (url,\\'Impugnacoes\\',\\'maximized=yes, screenX=250, screenY=0, toolbar=no,location=no,directories=no,status=no,menubar=no,scrollbars=yes,resizable=no,copyhistory=no,width=600,height=400\\');\\n\\t\\treturn false;\\n\\t}\\n\\tfunction Intencao_Recurso(pprgCod){\\n\\t    var url = \"Intencao_Recurso.asp?Opc=2&rdTpPregao=E&lstSrp=T&lstICMS=T&uf=&numprp=0&co_uasg=925013&dt_entrega=&dt_abertura=&lstSituacao=5&lstTipoSuspensao=0&prgCod=\"+pprgCod;\\n\\t\\tlocation.href = url;\\n\\t\\treturn false;\\n\\t}\\n\\tfunction lista_itens(prgCod, numprpXsl){\\t\\t\\n\\t\\tvar url = \"lista_itens.asp?Opc=2&rdTpPregao=E&lstSrp=T&lstICMS=T&uf=&numprp=0&co_uasg=925013&dt_entrega=&dt_abertura=&lstSituacao=5&lstTipoSuspensao=0&prgCod=\"+prgCod+\"&numprpXsl=\"+numprpXsl+\"&pagina=1\"\\n\\t\\tlocation.href = url;\\n\\t}\\n\\tfunction lista_itensPres(prgCod){\\n\\t\\tvar url = \"lista_itensPres.asp?Opc=2&rdTpPregao=E&lstSrp=T&lstICMS=T&uf=&numprp=0&co_uasg=925013&dt_entrega=&dt_abertura=&lstSituacao=5&lstTipoSuspensao=0&prgCod=\"+prgCod;\\n\\t\\tlocation.href = url;\\n\\t}\\n\\t\\n\\t//var msg = \\'Função desativada!\\';\\n    \\n    //ESSAS SERÃO AS TECLAS DESABILITADAS\\n    var asciiF2        = 113;\\n    var asciiF3        = 114;\\n    var asciiF4        = 115;\\n    var asciiF5        = 116;\\n    var asciiF6        = 117;\\n    var asciiF11       = 122;\\n    var asciiF12       = 123;\\n    var asciiF1        = 112;\\n    \\n    //ie has to block in the key down\\n    if(document.all){ \\n        document.onkeydown = onKeyPress;\\n    //NS and mozilla have to block in the key press\\n    }else if (document.layers || document.getElementById){ \\n        document.onkeypress = onKeyPress;\\n    }\\n    \\n    function onKeyPress(evt) {\\n        window.status = \\'\\';\\n        //get the event object\\n        var oEvent = (window.event) ? window.event : evt;\\n      \\n        //hmmm in mozilla this is jacked, so i have to record these seperate\\n        //what key was pressed\\n        var nKeyCode =  oEvent.keyCode ? oEvent.keyCode : oEvent.which ? oEvent.which : void 0;\\n        var bIsFunctionKey = false;\\n    \\n        //hmmm in mozilla the keycode would contain a function key ONLY IF the charcode IS 0  \\n        //else key code and charcode read funny, the charcode for \\'t\\'\\n        //returns 116, which is the same as the ascii for F5\\n        //SOOO,... to check if a the keycode is truly a function key,\\n        //ONLY check when the charcode is null OR 0, IE returns null, mozilla returns 0\\n        if(oEvent.charCode == null || oEvent.charCode == 0){\\n            bIsFunctionKey = (nKeyCode >= asciiF1 && nKeyCode <= asciiF12)\\n        }\\n      \\n        //convert the key to a character, makes for more readable code\\n        var sChar = String.fromCharCode(nKeyCode).toUpperCase();\\n    \\n        //get the active tag that has the focus on the page, and its tag type\\n        var oTarget = (oEvent.target) ? oEvent.target : oEvent.srcElement;\\n        var sTag = oTarget.tagName.toLowerCase();\\n        var sTagType = oTarget.getAttribute(\"type\");\\n      \\n        var bAltPressed = (oEvent.altKey) ? oEvent.altKey : oEvent.modifiers & 1 > 0;\\n        var bShiftPressed = (oEvent.shiftKey) ? oEvent.shiftKey : oEvent.modifiers & 4 > 0;\\n        var bCtrlPressed = (oEvent.ctrlKey) ? oEvent.ctrlKey : oEvent.modifiers & 2 > 0;\\n    \\n        var bRet = true; //assume true as that will be the case most times\\n        //alert (nKeyCode + \\' \\' + sChar + \\' \\' + sTag + \\' \\' + sTagType + \\' \\' + bShiftPressed + \\' \\' + bCtrlPressed + \\' \\' + bAltPressed);\\n    \\n        if(sTagType != null){sTagType = sTagType.toLowerCase();}\\n    \\n        //allow these keys inside a text box\\n        //if  (sTag == \"textarea\" || (sTag == \"input\" && (sTagType == \"text\" || sTagType == \"password\")) && ((bCtrlPressed && (nKeyCode == asciiLeftArrow || nKeyCode == asciiRightArrow)))){\\n        //    return true;\\n        //}else if(bAltPressed && (nKeyCode == asciiLeftArrow || nKeyCode == asciiRightArrow)){ // block alt + left or right arrow\\n        //    bRet = false;\\n        //}else if(bCtrlPressed && (sChar == \\'A\\' || sChar == \\'C\\' || sChar == \\'V\\' || sChar == \\'X\\')){ // ALLOW cut, copy and paste, and SELECT ALL\\n        //    bRet = true;\\n        //}else \\n        if(bIsFunctionKey){ // Capture and stop these keys\\n            bRet = false;\\n        }else if(bCtrlPressed && (sChar == \\'R\\')){ // block Control + R\\n            bRet = false;\\n        }    \\n      \\n        if(!bRet){\\n            try{\\n                oEvent.returnValue = false;\\n                oEvent.cancelBubble = true;\\n    \\n                if(document.all){ //IE\\n                    oEvent.keyCode = 0;\\n                }else{ //NS\\n                    oEvent.preventDefault();\\n                    oEvent.stopPropagation();\\n                }\\n\\t\\t\\t\\t//alert(msg);\\n            }catch(ex){\\n                //alert(msg);\\n            }\\n        }\\n        return bRet;\\n    }\\t\\n</script>\\n</head>\\n<body onload=\"setMouseCursortoHand(\\'type\\',\\'button\\'); javascript:{if(parent.frames[0]&amp;&amp;parent.frames[\\'nav\\'].Go)parent.frames[\\'nav\\'].Go()};\" bgcolor=\"#ffffff\" text=\"#000000\" leftmargin=\"0\" topmargin=\"0\" marginwidth=\"0\" marginheight=\"0\" class=\"body_2\">\\n\\n<table width=\"100%\" border=\"0\" cellspacing=\"0\" cellpadding=\"0\">\\n\\t<tr>\\n\\t\\t<td colspan=\"2\"><img height=5 src=\"/imagens/x2_dot.gif\" width=5></td>\\n\\t</tr>\\n\\t<tr> \\n\\t\\t<td valign=\"top\">\\n\\t\\t\\t<table width=\"100%\" border=\"0\" cellspacing=\"1\" cellpadding=\"2\">\\n\\t\\t\\t\\t<tr>\\n\\t\\t\\t\\t\\t<td width=\"5\"><img height=2 src=\"../../imagens/x2_dot.gif\" width=2></td>\\n\\t\\t\\t\\t\\t<td>\\n\\t\\t\\t\\t\\t\\t<table width=\"100%\" border=\"0\" cellspacing=\"0\" cellpadding=\"0\">\\n\\t\\t\\t\\t\\t\\t\\t<tr>\\n\\t\\t\\t\\t\\t\\t\\t\\t<td colspan=\"2\"><img height=23 src=\"../../imagens/T_aconpanhamento_pregao.gif\" width=208 align=absBottom></td>\\n\\t\\t\\t\\t\\t\\t\\t</tr>\\n\\t\\t\\t\\t\\t\\t\\t<tr>\\n\\t\\t\\t\\t\\t\\t\\t\\t<td width=\"5\"><img height=3 src=\"../../imagens/risco.gif\" width=5></td>\\n\\t\\t\\t\\t\\t\\t\\t\\t<td width=\"100%\"><img height=3 src=\"../../imagens/risco2.gif\" width=\"100%\"></td>\\n\\t\\t\\t\\t\\t\\t\\t</tr>\\n\\t\\t\\t\\t\\t\\t</table>\\n\\t\\t\\t\\t\\t</td>\\n\\t\\t\\t\\t\\t<td width=\"5\"><img height=2 src=\"../../imagens/x2_dot.gif\" width=2></td>\\n\\t\\t\\t\\t</tr>\\t\\t\\t\\t\\n\\t\\t\\t</table>\\t\\t\\t\\n\\t\\t\\t<table border=\"0\" cellspacing=\"1\" cellpadding=\"2\" width=\"100%\">\\n\\t\\t\\t\\t<tr>\\n\\t\\t\\t\\t\\t<td valign=\"top\" align=\"right\" width=\"23\"><img height=14 src=\"../../imagens/tm_bullet4.gif\" width=6></td>\\n\\t\\t\\t\\t\\t<td class=\"tex3\"><a id=4>Clique no número do pregão para ver detalhes</a></td>\\n\\t\\t\\t\\t</tr>\\n\\t\\t\\t\\t<tr>\\n\\t\\t\\t\\t\\t<td valign=\"top\" align=\"right\" width=\"23\">&nbsp;</td>\\n\\t\\t\\t\\t\\t<td class=\"tex3\">\\n\\t\\t\\t\\t\\t\\t<table border=\"0\" cellpadding=\"0\" cellspacing=\"0\" width=\"100%\">\\n\\t\\t\\t\\t\\t\\t\\t<tr valign=\"top\">\\n\\t\\t\\t\\t\\t\\t\\t\\t<td rowspan=\"3\" bgcolor=\"white\">\\n\\t\\t\\t\\t\\t\\t\\t\\t\\t<table border=\"0\" width=\"100%\">\\n\\t\\t\\t\\t\\t\\t\\t\\t\\t\\t<form id=\"form1\" name=\"form1\">\\n\\t\\t\\t\\t\\t\\t\\t\\t\\t\\t    <tbody>\\t\\t\\t\\t\\t\\t\\t\\t\\t\\t\\t\\n\\t\\t\\t\\t\\t\\t\\t\\t\\t\\t    \\n\\t\\t\\t\\t\\t\\t\\t\\t\\t\\t\\t\\n\\t\\t\\t\\t\\t\\t\\t\\t\\t\\t\\t\\t\\t\\t<tr>\\n\\t\\t\\t\\t\\t\\t\\t\\t\\t\\t\\t\\t\\t\\t\\t<td colspan=\"2\" class=\"tex3\" nowrap><br>Pregões Eletrônicos Em Andamento\\n\\t\\t\\t\\t\\t\\t\\t\\t\\t\\t\\t\\t\\t\\t\\t\\t<span class=\"mensagem\">\\n\\t\\t\\t\\t\\t\\t\\t\\t\\t\\t\\t\\t\\t\\t\\t\\t\\t\\n\\t\\t\\t\\t\\t\\t\\t\\t\\t\\t\\t\\t\\t\\t\\t\\t</span>\\n\\t\\t\\t\\t\\t\\t\\t\\t\\t\\t\\t\\t\\t\\t\\t</td>\\t\\t\\t\\t\\t\\t\\t\\t\\t\\t\\t\\t\\n\\t\\t\\t\\t\\t\\t\\t\\t\\t\\t\\t\\t\\t\\t</tr>\\t\\t\\t\\t\\t\\t\\t\\t\\t\\t\\t\\t\\n\\t\\t\\t\\t\\t\\t\\t\\t\\t\\t\\t\\t\\t\\t\\n\\t\\t\\t\\t\\t\\t\\t\\t\\t\\t\\t\\t\\t\\t\\t<tr>\\n\\t\\t\\t\\t\\t\\t\\t\\t\\t\\t\\t\\t\\t\\t\\t\\t<td width=\"1%\" class=\"tex3\" nowrap>Situação: Todas</td>\\n\\t\\t\\t\\t\\t\\t\\t\\t\\t\\t\\t\\t\\t\\t\\t\\t<td id=\"QtdPregoes\" class=\"mensagem\" valign=\"bottom\"></td>\\n\\t\\t\\t\\t\\t\\t\\t\\t\\t\\t\\t\\t\\t\\t\\t</tr>\\n\\t\\t\\t\\t\\t\\t\\t\\t\\t\\t\\t\\t\\t\\t\\n\\t\\t\\t\\t\\t\\t\\t\\t\\t\\t\\t\\t\\t\\t<tr>\\n\\t\\t\\t\\t\\t\\t\\t\\t\\t\\t\\t\\t\\t\\t\\t<td colspan=\"2\">\\n\\t\\t\\t\\t\\t\\t\\t\\t\\t\\t\\t\\t\\t\\t\\t\\t<table width=\"100%\" border=\"0\" cellpadding=\"2\" cellspacing=\"1\" class=\"td\">\\r\\n<tr class=\"tex3b\" align=\"center\">\\r\\n<td>Nº do Pregão</td>\\r\\n<td nowrap=\"nowrap\">Cód. UASG <br /> (Unid. de Compra)</td>\\r\\n<td nowrap=\"nowrap\">Nome da UASG <br /> (Unid. de Compra)</td>\\r\\n<td>Data/hora início PROPOSTAS</td>\\r\\n<td>Data/hora abertura PROPOSTAS</td>\\r\\n<td>Situação</td>\\r\\n<td>Informações do Pregão</td>\\r\\n</tr>\\r\\n<tr bgcolor=\"#FFFFFF\" valign=\"middle\" class=\"tex3\">\\r\\n<td align=\"center\">\\r\\n<a href=\"#\" onclick=\"lista_itens(\\'962837\\',\\'492021\\');\">492021</a>\\r\\n</td>\\r\\n<td align=\"center\">925013</td>\\r\\n<td align=\"center\">PMSP - SECRETARIA MUNICIPAL DE EDUCAÇÃO</td>\\r\\n<td align=\"center\">19/07/2021 08:00</td>\\r\\n<td align=\"center\">29/07/2021 09:30</td>\\r\\n<td align=\"center\">Julgamento/Habilitação</td>\\r\\n<td align=\"center\">\\r\\n<a href=\"javascript:void(0)\" onclick=\"Motivo_Suspensao(962837, \\'1\\');\">Suspensão Administrativa\\r\\n</a>\\r\\n<br />\\r\\n<a href=\"javascript:void(0)\" onclick=\"Esclar_Pregao(962837);\">Esclarecimentos</a><br />\\r\\n<a href=\"javascript:void(0)\" onclick=\"Avisos_Pregao(962837);\">Avisos</a><br />\\r\\n</td>\\r\\n</tr>\\r\\n<tr bgcolor=\"#FFFFFF\" valign=\"middle\" class=\"tex3\">\\r\\n<td align=\"center\">\\r\\n<a href=\"#\" onclick=\"lista_itens(\\'967423\\',\\'562021\\');\">562021</a>\\r\\n</td>\\r\\n<td align=\"center\">925013</td>\\r\\n<td align=\"center\">PMSP - SECRETARIA MUNICIPAL DE EDUCAÇÃO</td>\\r\\n<td align=\"center\">04/08/2021 08:00</td>\\r\\n<td align=\"center\">17/08/2021 09:30</td>\\r\\n<td align=\"center\">Julgamento/Habilitação</td>\\r\\n<td align=\"center\">\\r\\n<br />\\r\\n</td>\\r\\n</tr>\\r\\n<tr bgcolor=\"#FFFFFF\" valign=\"middle\" class=\"tex3\">\\r\\n<td align=\"center\">\\r\\n<a href=\"#\" onclick=\"lista_itens(\\'969962\\',\\'572021\\');\">572021</a>\\r\\n</td>\\r\\n<td align=\"center\">925013</td>\\r\\n<td align=\"center\">PMSP - SECRETARIA MUNICIPAL DE EDUCAÇÃO</td>\\r\\n<td align=\"center\">12/08/2021 08:00</td>\\r\\n<td align=\"center\">24/08/2021 09:30</td>\\r\\n<td align=\"center\">Julgamento/Habilitação</td>\\r\\n<td align=\"center\">\\r\\n<a href=\"javascript:void(0)\" onclick=\"Motivo_Suspensao(969962, \\'1\\');\">Suspensão Administrativa\\r\\n</a>\\r\\n<br />\\r\\n<a href=\"javascript:void(0)\" onclick=\"Esclar_Pregao(969962);\">Esclarecimentos</a><br />\\r\\n</td>\\r\\n</tr>\\r\\n<tr bgcolor=\"#FFFFFF\" valign=\"middle\" class=\"tex3\">\\r\\n<td align=\"center\">\\r\\n<a href=\"#\" onclick=\"lista_itens(\\'970955\\',\\'592021\\');\">592021</a>\\r\\n</td>\\r\\n<td align=\"center\">925013</td>\\r\\n<td align=\"center\">PMSP - SECRETARIA MUNICIPAL DE EDUCAÇÃO</td>\\r\\n<td align=\"center\">17/08/2021 08:00</td>\\r\\n<td align=\"center\">31/08/2021 09:30</td>\\r\\n<td align=\"center\">Julgamento/Habilitação</td>\\r\\n<td align=\"center\">\\r\\n<a href=\"javascript:void(0)\" onclick=\"Motivo_Suspensao(970955, \\'1\\');\">Suspensão Administrativa\\r\\n</a>\\r\\n<br />\\r\\n</td>\\r\\n</tr>\\r\\n<tr bgcolor=\"#FFFFFF\" valign=\"middle\" class=\"tex3\">\\r\\n<td align=\"center\">\\r\\n<a href=\"#\" onclick=\"lista_itens(\\'971825\\',\\'602021\\');\">602021</a>\\r\\n</td>\\r\\n<td align=\"center\">925013</td>\\r\\n<td align=\"center\">PMSP - SECRETARIA MUNICIPAL DE EDUCAÇÃO</td>\\r\\n<td align=\"center\">19/08/2021 08:00</td>\\r\\n<td align=\"center\">31/08/2021 09:30</td>\\r\\n<td align=\"center\">Julgamento/Habilitação</td>\\r\\n<td align=\"center\">\\r\\n<br />\\r\\n<a href=\"javascript:void(0)\" onclick=\"Esclar_Pregao(971825);\">Esclarecimentos</a><br />\\r\\n</td>\\r\\n</tr>\\r\\n<tr bgcolor=\"#FFFFFF\" valign=\"middle\" class=\"tex3\">\\r\\n<td align=\"center\">\\r\\n<a href=\"#\" onclick=\"lista_itens(\\'973793\\',\\'612021\\');\">612021</a>\\r\\n</td>\\r\\n<td align=\"center\">925013</td>\\r\\n<td align=\"center\">PMSP - SECRETARIA MUNICIPAL DE EDUCAÇÃO</td>\\r\\n<td align=\"center\">25/08/2021 08:00</td>\\r\\n<td align=\"center\">08/09/2021 09:30</td>\\r\\n<td align=\"center\">Julgamento/Habilitação</td>\\r\\n<td align=\"center\">\\r\\n<a href=\"javascript:void(0)\" onclick=\"Motivo_Suspensao(973793, \\'1\\');\">Suspensão Administrativa\\r\\n</a>\\r\\n<br />\\r\\n<a href=\"javascript:void(0)\" onclick=\"Esclar_Pregao(973793);\">Esclarecimentos</a><br />\\r\\n<a href=\"javascript:void(0)\" onclick=\"Avisos_Pregao(973793);\">Avisos</a><br />\\r\\n</td>\\r\\n</tr>\\r\\n</table>\\r\\n\\n\\t\\t\\t\\t\\t\\t\\t\\t\\t\\t\\t\\t\\t\\t\\t</td>\\n\\t\\t\\t\\t\\t\\t\\t\\t\\t\\t\\t\\t\\t\\t</tr>\\n\\t\\t\\t\\t\\t\\t\\t\\t\\t\\t\\t\\t\\t\\t\\t\\t\\t\\t\\t\\t\\t\\t\\t\\t\\t\\n\\t\\t\\t\\t\\t\\t\\t\\t\\t\\t\\t    \\n\\t\\t\\t\\t\\t\\t\\t\\t\\t\\t\\t<tr>\\t\\t\\t\\t\\t\\t\\t\\t\\t\\t\\t\\n\\t\\t\\t\\t\\t\\t\\t\\t\\t\\t\\t  <td colspan=\"2\">\\n\\t\\t\\t\\t\\t\\t\\t\\t\\t\\t\\t    <br/><input type=\"button\" name=\"voltar\" value=\"Voltar\" class=\"texField2\" onClick=\"javascript:location.href=\\'Lista_Pregao_Filtro.asp?Opc=2\\'; return false;\">\\n\\t\\t\\t\\t\\t\\t\\t\\t\\t\\t\\t  </td>\\n\\t\\t\\t\\t\\t\\t\\t\\t\\t\\t\\t</tr>\\n\\t\\t\\t\\t\\t\\t\\t\\t\\t\\t</tbody>\\n\\t\\t\\t\\t\\t\\t\\t\\t\\t\\t</form>\\n\\t\\t\\t\\t\\t\\t\\t\\t\\t</table>\\n\\t\\t\\t\\t\\t\\t\\t\\t</td>\\n\\t\\t\\t\\t\\t\\t\\t</tr>\\n\\t\\t\\t\\t\\t\\t</table>\\n\\t\\t\\t\\t\\t</td>\\n\\t\\t\\t\\t</tr>\\n\\t\\t\\t</table>\\t\\t\\t\\n\\n\\t\\t</td>\\n\\t</tr>\\n</table>\\n\\n\\n    <script Language=\"Javascript\">\\n    var preg = \\' pregões\\';\\n    \\n    document.getElementById(\\'QtdPregoes\\').innerHTML = \\'= 6\\' + preg;\\n\\n    </script>\\n\\n</body>\\n</html>\\n'"
      ]
     },
     "execution_count": 44,
     "metadata": {},
     "output_type": "execute_result"
    }
   ],
   "source": [
    "form_response.text"
   ]
  },
  {
   "cell_type": "markdown",
   "id": "8bb0c94b",
   "metadata": {},
   "source": [
    "## Agora vamos raspar os itens da página\n",
    "\n",
    "Analise a página de resultados para encontrar o Xpath que seleciona todas as linhas da tabela de resultados, ou seja, queremos que cada linha da tabela seja um resultado dessa nossa seleção.\n",
    "\n",
    "Preencha aqui o Xpath correto para que obtenhamos os pregões da tabela de resultados (apenas as linhas que contém pregões mesmo!): "
   ]
  },
  {
   "cell_type": "code",
   "execution_count": 45,
   "id": "3cc58e67",
   "metadata": {},
   "outputs": [],
   "source": [
    "xpath = \"//table[@class='td']//tr[@class='tex3']\"\n",
    "rows = form_response.html.xpath(xpath)"
   ]
  },
  {
   "cell_type": "code",
   "execution_count": 46,
   "id": "8c1bd009",
   "metadata": {},
   "outputs": [
    {
     "data": {
      "text/plain": [
       "[<Element 'tr' bgcolor='#FFFFFF' valign='middle' class=('tex3',)>,\n",
       " <Element 'tr' bgcolor='#FFFFFF' valign='middle' class=('tex3',)>,\n",
       " <Element 'tr' bgcolor='#FFFFFF' valign='middle' class=('tex3',)>,\n",
       " <Element 'tr' bgcolor='#FFFFFF' valign='middle' class=('tex3',)>,\n",
       " <Element 'tr' bgcolor='#FFFFFF' valign='middle' class=('tex3',)>,\n",
       " <Element 'tr' bgcolor='#FFFFFF' valign='middle' class=('tex3',)>]"
      ]
     },
     "execution_count": 46,
     "metadata": {},
     "output_type": "execute_result"
    }
   ],
   "source": [
    "rows"
   ]
  },
  {
   "cell_type": "markdown",
   "id": "7c856d49",
   "metadata": {},
   "source": [
    "Vamos observar o que a `requests_html` está selecionando... Na célula a seguir, vamos ver como é o HTML do primeiro elemento da lista, ou seja, a primeira linha.\n",
    "\n",
    "Cada linha deverá ser um elemento `<tr>` com o conteúdo da linha dentro de elementos mais internos. Recomendo analisar um pouco essa estrutura a seguir para entender como a extração de cada campo irá funcionar."
   ]
  },
  {
   "cell_type": "code",
   "execution_count": 47,
   "id": "f8fc15e2",
   "metadata": {},
   "outputs": [
    {
     "name": "stdout",
     "output_type": "stream",
     "text": [
      "<tr bgcolor=\"#FFFFFF\" valign=\"middle\" class=\"tex3\">\n",
      "<td align=\"center\">\n",
      "<a href=\"#\" onclick=\"lista_itens('962837','492021');\">492021</a>\n",
      "</td>\n",
      "<td align=\"center\">925013</td>\n",
      "<td align=\"center\">PMSP - SECRETARIA MUNICIPAL DE EDUCAÇÃO</td>\n",
      "<td align=\"center\">19/07/2021 08:00</td>\n",
      "<td align=\"center\">29/07/2021 09:30</td>\n",
      "<td align=\"center\">Julgamento/Habilitação</td>\n",
      "<td align=\"center\">\n",
      "<a href=\"javascript:void(0)\" onclick=\"Motivo_Suspensao(962837, '1');\">Suspensão Administrativa&#13;\n",
      "</a>\n",
      "<br/>\n",
      "<a href=\"javascript:void(0)\" onclick=\"Esclar_Pregao(962837);\">Esclarecimentos</a><br/>\n",
      "<a href=\"javascript:void(0)\" onclick=\"Avisos_Pregao(962837);\">Avisos</a><br/>\n",
      "</td>\n",
      "</tr>\n"
     ]
    }
   ],
   "source": [
    "print(rows[0].html)"
   ]
  },
  {
   "cell_type": "markdown",
   "id": "a21bc83f",
   "metadata": {},
   "source": [
    "Vendo como a `requests_html` está enxergando este item, podemos esclarecer uma coisa sobre Xpaths relativos. Se você lembra da aula de Xpath, então talvez se confunda um pouco ao criar os Xpaths para extrair as informações de cada campo da linha.\n",
    "\n",
    "Mas de onde viria essa confusão? Bem, possivelmente você imaginaria que o elemento atual que a `requests_html` estaria \"enxergando\" seria o `<tr>` certo? E que para selecionar qualquer elemento a partir deste elemento atual precisaríamos \"descer a árvore de elementos\" relativamente a partir dele (`\"./elemento1/elemento2\"`). Porém, a `requests_html` funciona de maneira diferente, e o `<tr>` é um elemento interno do elemento atual (o único descendente imediato, de forma mais específica). Ou seja, é como se tivéssemos um novo documento HTML onde o topo da árvore seria o elemento `<tr>` e apenas ele.\n",
    "\n",
    "Por isso, aqui você irá preencher o xpath **a partir** do trecho onde está o `tr` nos Xpaths abaixo.\n",
    "\n",
    "Queremos raspar **o texto** de cada campo apresentado na tabela (exceto o campo \"Informações do Pregão\") e salvar todos os itens em formato de dicionário numa lista de pregões:"
   ]
  },
  {
   "cell_type": "code",
   "execution_count": 48,
   "id": "91f4ef53",
   "metadata": {},
   "outputs": [
    {
     "data": {
      "text/plain": [
       "['492021']"
      ]
     },
     "execution_count": 48,
     "metadata": {},
     "output_type": "execute_result"
    }
   ],
   "source": [
    "rows[0].xpath(\"./tr/td[1]/a/text()\")"
   ]
  },
  {
   "cell_type": "code",
   "execution_count": 50,
   "id": "b6075a74",
   "metadata": {},
   "outputs": [],
   "source": [
    "pregoes = []\n",
    "for row in rows:\n",
    "    numero_pregao = row.xpath(\"./tr/td[1]/a/text()\")[0]\n",
    "    codigo_uasg = row.xpath(\"./tr/td[2]/text()\")[0]\n",
    "    nome_uasg = row.xpath(\"./tr/td[3]/text()\")[0]\n",
    "    data_hora_inicio = row.xpath(\"./tr/td[4]/text()\")[0]\n",
    "    data_hora_abertura = row.xpath(\"./tr/td[5]/text()\")[0]\n",
    "    situacao = row.xpath(\"./tr/td[6]/text()\")[0]\n",
    "    item = {\n",
    "        \"numero_pregao\": numero_pregao,\n",
    "        \"codigo_uasg\": codigo_uasg,\n",
    "        \"nome_uasg\": nome_uasg,\n",
    "        \"data_hora_inicio\": data_hora_inicio,\n",
    "        \"data_hora_abertura\": data_hora_abertura,\n",
    "        \"situacao\": situacao,\n",
    "    }\n",
    "    pregoes.append(item)"
   ]
  },
  {
   "cell_type": "code",
   "execution_count": 51,
   "id": "f4b8ca69",
   "metadata": {},
   "outputs": [
    {
     "data": {
      "text/plain": [
       "[{'numero_pregao': '492021',\n",
       "  'codigo_uasg': '925013',\n",
       "  'nome_uasg': 'PMSP - SECRETARIA MUNICIPAL DE EDUCAÇÃO',\n",
       "  'data_hora_inicio': '19/07/2021 08:00',\n",
       "  'data_hora_abertura': '29/07/2021 09:30',\n",
       "  'situacao': 'Julgamento/Habilitação'},\n",
       " {'numero_pregao': '562021',\n",
       "  'codigo_uasg': '925013',\n",
       "  'nome_uasg': 'PMSP - SECRETARIA MUNICIPAL DE EDUCAÇÃO',\n",
       "  'data_hora_inicio': '04/08/2021 08:00',\n",
       "  'data_hora_abertura': '17/08/2021 09:30',\n",
       "  'situacao': 'Julgamento/Habilitação'},\n",
       " {'numero_pregao': '572021',\n",
       "  'codigo_uasg': '925013',\n",
       "  'nome_uasg': 'PMSP - SECRETARIA MUNICIPAL DE EDUCAÇÃO',\n",
       "  'data_hora_inicio': '12/08/2021 08:00',\n",
       "  'data_hora_abertura': '24/08/2021 09:30',\n",
       "  'situacao': 'Julgamento/Habilitação'},\n",
       " {'numero_pregao': '592021',\n",
       "  'codigo_uasg': '925013',\n",
       "  'nome_uasg': 'PMSP - SECRETARIA MUNICIPAL DE EDUCAÇÃO',\n",
       "  'data_hora_inicio': '17/08/2021 08:00',\n",
       "  'data_hora_abertura': '31/08/2021 09:30',\n",
       "  'situacao': 'Julgamento/Habilitação'},\n",
       " {'numero_pregao': '602021',\n",
       "  'codigo_uasg': '925013',\n",
       "  'nome_uasg': 'PMSP - SECRETARIA MUNICIPAL DE EDUCAÇÃO',\n",
       "  'data_hora_inicio': '19/08/2021 08:00',\n",
       "  'data_hora_abertura': '31/08/2021 09:30',\n",
       "  'situacao': 'Julgamento/Habilitação'},\n",
       " {'numero_pregao': '612021',\n",
       "  'codigo_uasg': '925013',\n",
       "  'nome_uasg': 'PMSP - SECRETARIA MUNICIPAL DE EDUCAÇÃO',\n",
       "  'data_hora_inicio': '25/08/2021 08:00',\n",
       "  'data_hora_abertura': '08/09/2021 09:30',\n",
       "  'situacao': 'Julgamento/Habilitação'}]"
      ]
     },
     "execution_count": 51,
     "metadata": {},
     "output_type": "execute_result"
    }
   ],
   "source": [
    "pregoes"
   ]
  },
  {
   "cell_type": "markdown",
   "id": "5abc0143",
   "metadata": {},
   "source": [
    "## Salvando os itens\n",
    "\n",
    "Com a nossa lista preenchida, podemos salvar. Primeiro, uma maneira de salvar itens em CSV sem precisar utilizar bibliotecas externas. Esta versão mostra que precisamos de apenas alguns comandos para escrever o CSV:\n",
    "\n",
    "1. Um comando que indique que queremos criar um arquivo em modo de escrita;\n",
    "2. Outro que informe quais são os campos que devem ser as colunas do CSV (através dos nomes dos campos do primeiro item da lista de dicionários) neste arquivo\n",
    "3. Um que escreve o cabeçalho (as colunas) do CSV\n",
    "4. Um que escreve todas as linhas no arquivo a partir da nossa lista de dicionários"
   ]
  },
  {
   "cell_type": "code",
   "execution_count": 52,
   "id": "1fa115a2",
   "metadata": {},
   "outputs": [],
   "source": [
    "with open('pregoes.csv', 'w') as f:\n",
    "    fieldnames = pregoes[0].keys()\n",
    "    writer = csv.DictWriter(f, fieldnames=fieldnames)\n",
    "    writer.writeheader()\n",
    "    writer.writerows(pregoes)"
   ]
  },
  {
   "cell_type": "markdown",
   "id": "d3bb1731",
   "metadata": {},
   "source": [
    "Mas existe maneira mais fácil usando `pandas`, veja se você consegue criar um `DataFrame` a partir da variável `pregoes`:"
   ]
  },
  {
   "cell_type": "code",
   "execution_count": 54,
   "id": "9547ec24",
   "metadata": {},
   "outputs": [
    {
     "data": {
      "text/html": [
       "<div>\n",
       "<style scoped>\n",
       "    .dataframe tbody tr th:only-of-type {\n",
       "        vertical-align: middle;\n",
       "    }\n",
       "\n",
       "    .dataframe tbody tr th {\n",
       "        vertical-align: top;\n",
       "    }\n",
       "\n",
       "    .dataframe thead th {\n",
       "        text-align: right;\n",
       "    }\n",
       "</style>\n",
       "<table border=\"1\" class=\"dataframe\">\n",
       "  <thead>\n",
       "    <tr style=\"text-align: right;\">\n",
       "      <th></th>\n",
       "      <th>numero_pregao</th>\n",
       "      <th>codigo_uasg</th>\n",
       "      <th>nome_uasg</th>\n",
       "      <th>data_hora_inicio</th>\n",
       "      <th>data_hora_abertura</th>\n",
       "      <th>situacao</th>\n",
       "    </tr>\n",
       "  </thead>\n",
       "  <tbody>\n",
       "    <tr>\n",
       "      <th>0</th>\n",
       "      <td>492021</td>\n",
       "      <td>925013</td>\n",
       "      <td>PMSP - SECRETARIA MUNICIPAL DE EDUCAÇÃO</td>\n",
       "      <td>19/07/2021 08:00</td>\n",
       "      <td>29/07/2021 09:30</td>\n",
       "      <td>Julgamento/Habilitação</td>\n",
       "    </tr>\n",
       "    <tr>\n",
       "      <th>1</th>\n",
       "      <td>562021</td>\n",
       "      <td>925013</td>\n",
       "      <td>PMSP - SECRETARIA MUNICIPAL DE EDUCAÇÃO</td>\n",
       "      <td>04/08/2021 08:00</td>\n",
       "      <td>17/08/2021 09:30</td>\n",
       "      <td>Julgamento/Habilitação</td>\n",
       "    </tr>\n",
       "    <tr>\n",
       "      <th>2</th>\n",
       "      <td>572021</td>\n",
       "      <td>925013</td>\n",
       "      <td>PMSP - SECRETARIA MUNICIPAL DE EDUCAÇÃO</td>\n",
       "      <td>12/08/2021 08:00</td>\n",
       "      <td>24/08/2021 09:30</td>\n",
       "      <td>Julgamento/Habilitação</td>\n",
       "    </tr>\n",
       "    <tr>\n",
       "      <th>3</th>\n",
       "      <td>592021</td>\n",
       "      <td>925013</td>\n",
       "      <td>PMSP - SECRETARIA MUNICIPAL DE EDUCAÇÃO</td>\n",
       "      <td>17/08/2021 08:00</td>\n",
       "      <td>31/08/2021 09:30</td>\n",
       "      <td>Julgamento/Habilitação</td>\n",
       "    </tr>\n",
       "    <tr>\n",
       "      <th>4</th>\n",
       "      <td>602021</td>\n",
       "      <td>925013</td>\n",
       "      <td>PMSP - SECRETARIA MUNICIPAL DE EDUCAÇÃO</td>\n",
       "      <td>19/08/2021 08:00</td>\n",
       "      <td>31/08/2021 09:30</td>\n",
       "      <td>Julgamento/Habilitação</td>\n",
       "    </tr>\n",
       "    <tr>\n",
       "      <th>5</th>\n",
       "      <td>612021</td>\n",
       "      <td>925013</td>\n",
       "      <td>PMSP - SECRETARIA MUNICIPAL DE EDUCAÇÃO</td>\n",
       "      <td>25/08/2021 08:00</td>\n",
       "      <td>08/09/2021 09:30</td>\n",
       "      <td>Julgamento/Habilitação</td>\n",
       "    </tr>\n",
       "  </tbody>\n",
       "</table>\n",
       "</div>"
      ],
      "text/plain": [
       "  numero_pregao codigo_uasg                                nome_uasg  \\\n",
       "0        492021      925013  PMSP - SECRETARIA MUNICIPAL DE EDUCAÇÃO   \n",
       "1        562021      925013  PMSP - SECRETARIA MUNICIPAL DE EDUCAÇÃO   \n",
       "2        572021      925013  PMSP - SECRETARIA MUNICIPAL DE EDUCAÇÃO   \n",
       "3        592021      925013  PMSP - SECRETARIA MUNICIPAL DE EDUCAÇÃO   \n",
       "4        602021      925013  PMSP - SECRETARIA MUNICIPAL DE EDUCAÇÃO   \n",
       "5        612021      925013  PMSP - SECRETARIA MUNICIPAL DE EDUCAÇÃO   \n",
       "\n",
       "   data_hora_inicio data_hora_abertura                situacao  \n",
       "0  19/07/2021 08:00   29/07/2021 09:30  Julgamento/Habilitação  \n",
       "1  04/08/2021 08:00   17/08/2021 09:30  Julgamento/Habilitação  \n",
       "2  12/08/2021 08:00   24/08/2021 09:30  Julgamento/Habilitação  \n",
       "3  17/08/2021 08:00   31/08/2021 09:30  Julgamento/Habilitação  \n",
       "4  19/08/2021 08:00   31/08/2021 09:30  Julgamento/Habilitação  \n",
       "5  25/08/2021 08:00   08/09/2021 09:30  Julgamento/Habilitação  "
      ]
     },
     "execution_count": 54,
     "metadata": {},
     "output_type": "execute_result"
    }
   ],
   "source": [
    "df_pregoes = pd.DataFrame(pregoes)\n",
    "df_pregoes"
   ]
  },
  {
   "cell_type": "markdown",
   "id": "dfc0b003",
   "metadata": {},
   "source": [
    "E agora salve o `DataFrame` em um arquivo `'pregoes_pandas.csv'` (é recomendável utilizar o parâmetro `index=False` para suprimir a coluna \"vazia\" do índice do `DataFrame`):"
   ]
  },
  {
   "cell_type": "code",
   "execution_count": 57,
   "id": "04f1b88d",
   "metadata": {},
   "outputs": [],
   "source": [
    "df_pregoes.to_csv('pregoes_pandas2.csv', index=False, encoding=\"utf-8-sig\")"
   ]
  },
  {
   "cell_type": "markdown",
   "id": "c503becc",
   "metadata": {},
   "source": [
    "## Finalizando o desafio!\n",
    "\n",
    "Pronto! Temos uma consulta! E ela pode ser modificada para selecionar pregões de outras instituições também!\n",
    "\n",
    "Se tiver curiosidade e quiser tentar fazer consultas parecidas para outras situações de pregões (que não estão em andamento) [acesse a página de consultas do Portal de Compras do Governo Federal](https://www.gov.br/compras/pt-br/assuntos/consultas-1) e na aba \"Pregões\" teremos consultas praticamente idênticas a que você acabou de fazer.\n",
    "\n",
    "Boa jornada!"
   ]
  }
 ],
 "metadata": {
  "kernelspec": {
   "display_name": "Python 3 (ipykernel)",
   "language": "python",
   "name": "python3"
  },
  "language_info": {
   "codemirror_mode": {
    "name": "ipython",
    "version": 3
   },
   "file_extension": ".py",
   "mimetype": "text/x-python",
   "name": "python",
   "nbconvert_exporter": "python",
   "pygments_lexer": "ipython3",
   "version": "3.9.6"
  }
 },
 "nbformat": 4,
 "nbformat_minor": 5
}
